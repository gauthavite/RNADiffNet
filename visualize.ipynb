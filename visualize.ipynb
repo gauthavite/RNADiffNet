{
 "cells": [
  {
   "cell_type": "code",
   "execution_count": null,
   "metadata": {},
   "outputs": [],
   "source": [
    "import torch\n",
    "import scipy \n",
    "import trimesh \n",
    "import numpy as np\n",
    "from potpourri3d import read_mesh\n",
    "from tqdm.notebook import tqdm\n",
    "import matplotlib.pyplot as plt\n",
    "\n",
    "import pymeshlab\n",
    "\n",
    "import torchvision\n",
    "\n",
    "from rna_config import Config\n",
    "from diffusion_utils import compute_operators, normalize_positions\n",
    "\n",
    "from model import DiffusionNet\n",
    "from plot_utils.plot import plot, double_plot\n",
    "from mesh_utils.mesh import TriMesh\n",
    "\n",
    "\n",
    "device = 'cuda'\n",
    "dtype = torch.float32"
   ]
  },
  {
   "cell_type": "code",
   "execution_count": 10,
   "metadata": {},
   "outputs": [
    {
     "data": {
      "text/plain": [
       "<All keys matched successfully>"
      ]
     },
     "execution_count": 10,
     "metadata": {},
     "output_type": "execute_result"
    }
   ],
   "source": [
    "model_cfg = {\n",
    "    \"inp_feat\": Config.inp_feat,\n",
    "    \"p_in\": Config.p_in,\n",
    "    \"p_out\": 147,\n",
    "    \"N_block\": Config.n_block,\n",
    "    \"n_channels\": Config.n_channels,\n",
    "    \"outputs_at\": Config.outputs_at,\n",
    "}\n",
    "model = DiffusionNet(\n",
    "    C_in=model_cfg['p_in'],\n",
    "    C_out=model_cfg['p_out'],\n",
    "    C_width=model_cfg[\"n_channels\"],\n",
    "    N_block=model_cfg['N_block'],\n",
    "    outputs_at=model_cfg['outputs_at'],\n",
    "    with_gradient_features=True,\n",
    "    diffusion_method=\"spectral\"\n",
    ")\n",
    "model.load_state_dict(torch.load(\"/Data/rna/models/model_final.pth\", weights_only=True))"
   ]
  },
  {
   "cell_type": "code",
   "execution_count": 12,
   "metadata": {},
   "outputs": [
    {
     "data": {
      "text/plain": [
       "(torch.Size([14910, 3]), (14910,))"
      ]
     },
     "execution_count": 12,
     "metadata": {},
     "output_type": "execute_result"
    }
   ],
   "source": [
    "off_path = \"/Data/rna/RNADataset/off/4V83_BB.off\" # mesh from the test set\n",
    "verts, faces = read_mesh(off_path)\n",
    "labels = np.loadtxt(\"/Data/rna/RNADataset/labels/4V83_BB.txt\").astype(int) + 1\n",
    "label_map = np.loadtxt(\"/Data/rna/RNADataset/label_map\", dtype=int)\n",
    "label_map = {k: v for k, v in label_map}\n",
    "labels = np.array([label_map[label] for label in labels])\n",
    "verts = torch.tensor(verts).float()\n",
    "verts = normalize_positions(verts)\n",
    "verts.shape, labels.shape"
   ]
  },
  {
   "cell_type": "code",
   "execution_count": null,
   "metadata": {},
   "outputs": [
    {
     "data": {
      "application/vnd.jupyter.widget-view+json": {
       "model_id": "8210053bb82c4bfa873a116d1a706cdd",
       "version_major": 2,
       "version_minor": 0
      },
      "text/plain": [
       "HBox(children=(Output(), Output()))"
      ]
     },
     "metadata": {},
     "output_type": "display_data"
    },
    {
     "data": {
      "application/vnd.jupyter.widget-view+json": {
       "model_id": "41946cf0a549406e835273800b6e7500",
       "version_major": 2,
       "version_minor": 0
      },
      "text/plain": [
       "HBox(children=(Output(), Output()))"
      ]
     },
     "metadata": {},
     "output_type": "display_data"
    }
   ],
   "source": [
    "mesh = TriMesh(verts, faces)\n",
    "double_plot(mesh,mesh,labels,labels)\n",
    "# plot(mesh, cmap=labels)"
   ]
  },
  {
   "cell_type": "code",
   "execution_count": 9,
   "metadata": {},
   "outputs": [
    {
     "name": "stderr",
     "output_type": "stream",
     "text": [
      "/tmp/ipykernel_2058036/3848251485.py:12: UserWarning: To copy construct from a tensor, it is recommended to use sourceTensor.clone().detach() or sourceTensor.clone().detach().requires_grad_(True), rather than torch.tensor(sourceTensor).\n",
      "  torch.tensor(verts), torch.tensor(faces), k_eig=Config.num_eig\n",
      "/users/eleves-a/2021/gauthier.avite/DragDiffNet/rna/diffusion_utils.py:201: RuntimeWarning: invalid value encountered in divide\n",
      "  vertex_normals = vertex_normals / np.linalg.norm(vertex_normals,axis=-1,keepdims=True)\n"
     ]
    }
   ],
   "source": [
    "off_path = \"/Data/rna/RNADataset/off/4V83_BB.off\" # mesh from the test set\n",
    "verts, faces = read_mesh(off_path)\n",
    "labels = np.loadtxt(\"/Data/rna/RNADataset/labels/4V83_BB.txt\").astype(int) + 1\n",
    "label_map = np.loadtxt(\"/Data/rna/RNADataset/label_map\", dtype=int)\n",
    "label_map = {k: v for k, v in label_map}\n",
    "labels = np.array([label_map[label] for label in labels])\n",
    "verts = torch.tensor(verts).float()\n",
    "verts = normalize_positions(verts)\n",
    "faces = torch.tensor(faces)\n",
    "\n",
    "frames, vertex_area, L, evals, evecs, gradX, gradY = compute_operators(\n",
    "    torch.tensor(verts), torch.tensor(faces), k_eig=Config.num_eig\n",
    ")\n",
    "\n",
    "model.eval()\n",
    "with torch.no_grad():\n",
    "    preds = model(verts, vertex_area, evals=evals, evecs=evecs, gradX=gradX, gradY=gradY, L=L)\n",
    "    pred_labels = torch.argmax(preds, dim=1)"
   ]
  },
  {
   "cell_type": "code",
   "execution_count": 10,
   "metadata": {},
   "outputs": [
    {
     "data": {
      "text/plain": [
       "0.8254862508383635"
      ]
     },
     "execution_count": 10,
     "metadata": {},
     "output_type": "execute_result"
    }
   ],
   "source": [
    "(labels == pred_labels.cpu().numpy()).mean()"
   ]
  },
  {
   "cell_type": "code",
   "execution_count": 9,
   "metadata": {},
   "outputs": [
    {
     "data": {
      "application/vnd.jupyter.widget-view+json": {
       "model_id": "cd89d27466ca42509de23fffff031bcc",
       "version_major": 2,
       "version_minor": 0
      },
      "text/plain": [
       "Renderer(camera=PerspectiveCamera(children=(DirectionalLight(color='white', intensity=0.6, position=(-104.2162…"
      ]
     },
     "metadata": {},
     "output_type": "display_data"
    },
    {
     "data": {
      "text/plain": [
       "<meshplot.Viewer.Viewer at 0x7fa6783e1e80>"
      ]
     },
     "execution_count": 9,
     "metadata": {},
     "output_type": "execute_result"
    }
   ],
   "source": [
    "plot(mesh, pred_labels.cpu().numpy())"
   ]
  },
  {
   "cell_type": "code",
   "execution_count": 30,
   "metadata": {},
   "outputs": [
    {
     "name": "stderr",
     "output_type": "stream",
     "text": [
      "/tmp/ipykernel_2058036/665855382.py:37: UserWarning: To copy construct from a tensor, it is recommended to use sourceTensor.clone().detach() or sourceTensor.clone().detach().requires_grad_(True), rather than torch.tensor(sourceTensor).\n",
      "  torch.tensor(verts), torch.tensor(faces), k_eig=Config.num_eig\n"
     ]
    }
   ],
   "source": [
    "off_path = \"/Data/rna/RNADataset/off/4V83_BB.off\" # mesh from the test set\n",
    "verts, faces = read_mesh(off_path)\n",
    "labels = np.loadtxt(\"/Data/rna/RNADataset/labels/4V83_BB.txt\").astype(int) + 1\n",
    "label_map = np.loadtxt(\"/Data/rna/RNADataset/label_map\", dtype=int)\n",
    "label_map = {k: v for k, v in label_map}\n",
    "labels = np.array([label_map[label] for label in labels])\n",
    "verts = torch.tensor(verts).float()\n",
    "verts = normalize_positions(verts)\n",
    "faces = torch.tensor(faces)\n",
    "\n",
    "ms = pymeshlab.MeshSet()\n",
    "verts = np.asarray(verts, dtype=np.float64)\n",
    "faces = np.asarray(faces, dtype=np.int32)\n",
    "labels = np.asarray(labels, dtype=np.float64).reshape(-1, 1) \n",
    "\n",
    "m = pymeshlab.Mesh(vertex_matrix=verts, face_matrix=faces, v_scalar_array=labels)\n",
    "ms.add_mesh(m)\n",
    "ms.meshing_decimation_quadric_edge_collapse(\n",
    "    targetfacenum=5000,\n",
    "    preservenormal=True,\n",
    "    preserveboundary=True,\n",
    "    preservetopology=False,\n",
    "    optimalplacement=True,\n",
    "    planarquadric=True,\n",
    "    qualitythr=0.3,\n",
    "    autoclean=True\n",
    ")                \n",
    "mesh = ms.current_mesh()\n",
    "verts = mesh.vertex_matrix()\n",
    "faces = mesh.face_matrix()\n",
    "labels = mesh.vertex_scalar_array().astype(int)\n",
    "\n",
    "verts = torch.tensor(verts).float()\n",
    "faces = torch.tensor(faces)\n",
    "\n",
    "frames, vertex_area, L, evals, evecs, gradX, gradY = compute_operators(\n",
    "    torch.tensor(verts), torch.tensor(faces), k_eig=Config.num_eig\n",
    ")\n",
    "\n",
    "model.eval()\n",
    "with torch.no_grad():\n",
    "    preds_downsampled = model(verts, vertex_area, evals=evals, evecs=evecs, gradX=gradX, gradY=gradY, L=L)\n",
    "    pred_labels_downsampled = torch.argmax(preds_downsampled, dim=1)"
   ]
  },
  {
   "cell_type": "code",
   "execution_count": 31,
   "metadata": {},
   "outputs": [
    {
     "data": {
      "text/plain": [
       "0.7847695390781563"
      ]
     },
     "execution_count": 31,
     "metadata": {},
     "output_type": "execute_result"
    }
   ],
   "source": [
    "(labels == pred_labels_downsampled.cpu().numpy()).mean()"
   ]
  },
  {
   "cell_type": "code",
   "execution_count": null,
   "metadata": {},
   "outputs": [
    {
     "ename": "AttributeError",
     "evalue": "'pymeshlab.pmeshlab.Mesh' object has no attribute 'vertices'",
     "output_type": "error",
     "traceback": [
      "\u001b[0;31m---------------------------------------------------------------------------\u001b[0m",
      "\u001b[0;31mAttributeError\u001b[0m                            Traceback (most recent call last)",
      "Cell \u001b[0;32mIn[32], line 1\u001b[0m\n\u001b[0;32m----> 1\u001b[0m \u001b[43mplot\u001b[49m\u001b[43m(\u001b[49m\u001b[43mmesh\u001b[49m\u001b[43m,\u001b[49m\u001b[43m \u001b[49m\u001b[43mpred_labels_downsampled\u001b[49m\u001b[38;5;241;43m.\u001b[39;49m\u001b[43mcpu\u001b[49m\u001b[43m(\u001b[49m\u001b[43m)\u001b[49m\u001b[38;5;241;43m.\u001b[39;49m\u001b[43mnumpy\u001b[49m\u001b[43m(\u001b[49m\u001b[43m)\u001b[49m\u001b[43m)\u001b[49m\n",
      "File \u001b[0;32m~/DragDiffNet/rna/../plot_utils/plot.py:49\u001b[0m, in \u001b[0;36mplot\u001b[0;34m(mesh1, cmap, points, cmap_p, rotation, colormap, shading, shading_p, flat, pretty, point_size)\u001b[0m\n\u001b[1;32m     46\u001b[0m     cmap \u001b[38;5;241m=\u001b[39m utils\u001b[38;5;241m.\u001b[39mget_cmap(cmap, colormap\u001b[38;5;241m=\u001b[39mcolormap)\n\u001b[1;32m     48\u001b[0m \u001b[38;5;66;03m# Rotate vertices\u001b[39;00m\n\u001b[0;32m---> 49\u001b[0m vertices \u001b[38;5;241m=\u001b[39m utils\u001b[38;5;241m.\u001b[39mrotate(\u001b[43mmesh1\u001b[49m\u001b[38;5;241;43m.\u001b[39;49m\u001b[43mvertices\u001b[49m, rotation\u001b[38;5;241m=\u001b[39mrotation)\n\u001b[1;32m     50\u001b[0m faces \u001b[38;5;241m=\u001b[39m mesh1\u001b[38;5;241m.\u001b[39mfaces\n\u001b[1;32m     52\u001b[0m p \u001b[38;5;241m=\u001b[39m mp\u001b[38;5;241m.\u001b[39mplot(vertices, faces, c\u001b[38;5;241m=\u001b[39mcmap, shading\u001b[38;5;241m=\u001b[39mshading_m)\n",
      "\u001b[0;31mAttributeError\u001b[0m: 'pymeshlab.pmeshlab.Mesh' object has no attribute 'vertices'"
     ]
    }
   ],
   "source": [
    "mesh = TriMesh(verts, faces)\n",
    "plot(mesh, pred_labels_downsampled.cpu().numpy())"
   ]
  },
  {
   "cell_type": "code",
   "execution_count": 35,
   "metadata": {},
   "outputs": [
    {
     "name": "stderr",
     "output_type": "stream",
     "text": [
      "/tmp/ipykernel_2058036/237856800.py:12: UserWarning: To copy construct from a tensor, it is recommended to use sourceTensor.clone().detach() or sourceTensor.clone().detach().requires_grad_(True), rather than torch.tensor(sourceTensor).\n",
      "  torch.tensor(verts), torch.tensor(faces), k_eig=Config.num_eig\n"
     ]
    }
   ],
   "source": [
    "off_path = \"/Data/rna/RNADataset/off/4V83_BB.off\" # mesh from the test set\n",
    "verts, faces = read_mesh(off_path)\n",
    "labels = np.loadtxt(\"/Data/rna/RNADataset/labels/4V83_BB.txt\").astype(int) + 1\n",
    "label_map = np.loadtxt(\"/Data/rna/RNADataset/label_map\", dtype=int)\n",
    "label_map = {k: v for k, v in label_map}\n",
    "labels = np.array([label_map[label] for label in labels])\n",
    "verts = torch.tensor(verts).float()\n",
    "verts = normalize_positions(verts)\n",
    "faces = torch.zeros((0, 3), dtype=torch.int32)\n",
    "\n",
    "frames, vertex_area, L, evals, evecs, gradX, gradY = compute_operators(\n",
    "    torch.tensor(verts), torch.tensor(faces), k_eig=Config.num_eig\n",
    ")\n",
    "\n",
    "model.eval()\n",
    "with torch.no_grad():\n",
    "    preds_pc = model(verts, vertex_area, evals=evals, evecs=evecs, gradX=gradX, gradY=gradY, L=L)\n",
    "    pred_labels_pc = torch.argmax(preds_pc, dim=1)"
   ]
  },
  {
   "cell_type": "code",
   "execution_count": 36,
   "metadata": {},
   "outputs": [
    {
     "data": {
      "text/plain": [
       "0.4039570757880617"
      ]
     },
     "execution_count": 36,
     "metadata": {},
     "output_type": "execute_result"
    }
   ],
   "source": [
    "(labels == pred_labels_pc.cpu().numpy()).mean()"
   ]
  },
  {
   "cell_type": "code",
   "execution_count": 37,
   "metadata": {},
   "outputs": [
    {
     "data": {
      "application/vnd.jupyter.widget-view+json": {
       "model_id": "23a4de53592f447d9f2fde9b614c13ea",
       "version_major": 2,
       "version_minor": 0
      },
      "text/plain": [
       "Renderer(camera=PerspectiveCamera(children=(DirectionalLight(color='white', intensity=0.6, position=(0.1241606…"
      ]
     },
     "metadata": {},
     "output_type": "display_data"
    },
    {
     "data": {
      "text/plain": [
       "<meshplot.Viewer.Viewer at 0x7f2dbc295b80>"
      ]
     },
     "execution_count": 37,
     "metadata": {},
     "output_type": "execute_result"
    }
   ],
   "source": [
    "mesh = TriMesh(verts)\n",
    "plot(mesh, pred_labels_pc.cpu().numpy())"
   ]
  },
  {
   "cell_type": "code",
   "execution_count": null,
   "metadata": {},
   "outputs": [],
   "source": []
  }
 ],
 "metadata": {
  "kernelspec": {
   "display_name": "venv",
   "language": "python",
   "name": "python3"
  },
  "language_info": {
   "codemirror_mode": {
    "name": "ipython",
    "version": 3
   },
   "file_extension": ".py",
   "mimetype": "text/x-python",
   "name": "python",
   "nbconvert_exporter": "python",
   "pygments_lexer": "ipython3",
   "version": "3.9.19"
  }
 },
 "nbformat": 4,
 "nbformat_minor": 2
}
